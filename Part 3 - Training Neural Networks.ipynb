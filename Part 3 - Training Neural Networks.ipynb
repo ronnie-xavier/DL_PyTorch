{
 "cells": [
  {
   "cell_type": "markdown",
   "metadata": {},
   "source": [
    "# Training Neural Networks\n",
    "\n",
    "The network we built in the previous part isn't so smart, it doesn't know anything about our handwritten digits. Neural networks with non-linear activations work like universal function approximators. There is some function that maps your input to the output. For example, images of handwritten digits to class probabilities. The power of neural networks is that we can train them to approximate this function, and basically any function given enough data and compute time.\n",
    "\n",
    "<img src=\"assets/function_approx.png\" width=500px>\n",
    "\n",
    "At first the network is naive, it doesn't know the function mapping the inputs to the outputs. We train the network by showing it examples of real data, then adjusting the network parameters such that it approximates this function.\n",
    "\n",
    "To find these parameters, we need to know how poorly the network is predicting the real outputs. For this we calculate a **loss function** (also called the cost), a measure of our prediction error. For example, the mean squared loss is often used in regression and binary classification problems\n",
    "\n",
    "$$\n",
    "\\ell = \\frac{1}{2n}\\sum_i^n{\\left(y_i - \\hat{y}_i\\right)^2}\n",
    "$$\n",
    "\n",
    "where $n$ is the number of training examples, $y_i$ are the true labels, and $\\hat{y}_i$ are the predicted labels.\n",
    "\n",
    "By minimizing this loss with respect to the network parameters, we can find configurations where the loss is at a minimum and the network is able to predict the correct labels with high accuracy. We find this minimum using a process called **gradient descent**. The gradient is the slope of the loss function and points in the direction of fastest change. To get to the minimum in the least amount of time, we then want to follow the gradient (downwards). You can think of this like descending a mountain by following the steepest slope to the base.\n",
    "\n",
    "<img src='assets/gradient_descent.png' width=350px>"
   ]
  },
  {
   "cell_type": "markdown",
   "metadata": {},
   "source": [
    "## Backpropagation\n",
    "\n",
    "For single layer networks, gradient descent is simple to implement. However, it's more complicated for deeper, multilayer neural networks like the one we've built. Complicated enough that it took about 30 years before researchers figured out how to train multilayer networks, although it's straightforward once you learn about it. \n",
    "\n",
    "This is done through **backpropagation** which is really just an application of the chain rule from calculus. It's easiest to understand if we convert a two layer network into a graph representation.\n",
    "\n",
    "<img src='assets/w1_backprop_graph.png' width=400px>\n",
    "\n",
    "In the forward pass through the network, our data and operations go from right to left here. To train the weights with gradient descent, we propagate the gradient of the cost backwards through the network. Mathematically, this is really just calculating the gradient of the loss with respect to the weights using the chain rule.\n",
    "\n",
    "$$\n",
    "\\frac{\\partial \\ell}{\\partial w_1} = \\frac{\\partial l_1}{\\partial w_1} \\frac{\\partial s}{\\partial l_1} \\frac{\\partial l_2}{\\partial s} \\frac{\\partial \\ell}{\\partial l_2}\n",
    "$$\n",
    "\n",
    "We update our weights using this gradient with some learning rate $\\alpha$. \n",
    "\n",
    "$$\n",
    "w^\\prime = w - \\alpha \\frac{\\partial \\ell}{\\partial w}\n",
    "$$\n",
    "\n",
    "The learning rate is set such that the weight update steps are small enough that the iterative method settles in a minimum.\n",
    "\n",
    "The first thing we need to do for training is define our loss function. In PyTorch, you'll usually see this as `criterion`. Here we're using softmax output, so we want to use `criterion = nn.CrossEntropyLoss()` as our loss. Later when training, you use `loss = criterion(output, targets)` to calculate the actual loss.\n",
    "\n",
    "We also need to define the optimizer we're using, SGD or Adam, or something along those lines. Here I'll just use SGD with `torch.optim.SGD`, passing in the network parameters and the learning rate."
   ]
  },
  {
   "cell_type": "markdown",
   "metadata": {},
   "source": [
    "## Autograd\n",
    "\n",
    "Torch provides a module, `autograd`, for automatically calculating the gradient of tensors. It does this by keeping track of operations performed on tensors. To make sure PyTorch keeps track of operations on a tensor and calculates the gradients, you need to set `requires_grad` on a tensor. You can do this at creation with the `requires_grad` keyword, or at any time with `x.requires_grad_(True)`.\n",
    "\n",
    "You can turn off gradients for a block of code with the `torch.no_grad()` content:\n",
    "```python\n",
    "x = torch.zeros(1, requires_grad=True)\n",
    ">>> with torch.no_grad():\n",
    "...     y = x * 2\n",
    ">>> y.requires_grad\n",
    "False\n",
    "```\n",
    "\n",
    "Also, you can turn on or off gradients altogether with `torch.set_grad_enabled(True|False)`.\n",
    "\n",
    "The gradients are computed with respect to some variable `z` with `z.backward()`. This does a backward pass through the operations that created `z`."
   ]
  },
  {
   "cell_type": "code",
   "execution_count": 1,
   "metadata": {},
   "outputs": [],
   "source": [
    "%matplotlib inline\n",
    "%config InlineBackend.figure_format = 'retina'\n",
    "\n",
    "from collections import OrderedDict\n",
    "\n",
    "import numpy as np\n",
    "import time\n",
    "\n",
    "import torch\n",
    "from torch import nn\n",
    "from torch import optim\n",
    "import torch.nn.functional as F\n",
    "\n",
    "import helper"
   ]
  },
  {
   "cell_type": "code",
   "execution_count": 2,
   "metadata": {},
   "outputs": [
    {
     "name": "stdout",
     "output_type": "stream",
     "text": [
      "tensor([[ 0.6317, -0.1445],\n",
      "        [ 0.3968, -0.1371]], requires_grad=True)\n"
     ]
    }
   ],
   "source": [
    "x = torch.randn(2,2, requires_grad=True)\n",
    "print(x)"
   ]
  },
  {
   "cell_type": "code",
   "execution_count": 3,
   "metadata": {},
   "outputs": [
    {
     "name": "stdout",
     "output_type": "stream",
     "text": [
      "tensor([[0.3990, 0.0209],\n",
      "        [0.1574, 0.0188]], grad_fn=<PowBackward0>)\n"
     ]
    }
   ],
   "source": [
    "y = x**2\n",
    "print(y)"
   ]
  },
  {
   "cell_type": "markdown",
   "metadata": {},
   "source": [
    "Below we can see the operation that created `y`, a power operation `PowBackward0`."
   ]
  },
  {
   "cell_type": "code",
   "execution_count": 4,
   "metadata": {},
   "outputs": [
    {
     "name": "stdout",
     "output_type": "stream",
     "text": [
      "<PowBackward0 object at 0x1074cb5f8>\n"
     ]
    }
   ],
   "source": [
    "## grad_fn shows the function that generated this variable\n",
    "print(y.grad_fn)"
   ]
  },
  {
   "cell_type": "markdown",
   "metadata": {},
   "source": [
    "The autgrad module keeps track of these operations and knows how to calculate the gradient for each one. In this way, it's able to calculate the gradients for a chain of operations, with respect to any one tensor. Let's reduce the tensor `y` to a scalar value, the mean."
   ]
  },
  {
   "cell_type": "code",
   "execution_count": 5,
   "metadata": {},
   "outputs": [
    {
     "name": "stdout",
     "output_type": "stream",
     "text": [
      "tensor(0.1490, grad_fn=<MeanBackward1>)\n"
     ]
    }
   ],
   "source": [
    "z = y.mean()\n",
    "print(z)"
   ]
  },
  {
   "cell_type": "markdown",
   "metadata": {},
   "source": [
    "You can check the gradients for `x` and `y` but they are empty currently."
   ]
  },
  {
   "cell_type": "code",
   "execution_count": 6,
   "metadata": {},
   "outputs": [
    {
     "name": "stdout",
     "output_type": "stream",
     "text": [
      "None\n"
     ]
    }
   ],
   "source": [
    "print(x.grad)"
   ]
  },
  {
   "cell_type": "markdown",
   "metadata": {},
   "source": [
    "To calculate the gradients, you need to run the `.backward` method on a Variable, `z` for example. This will calculate the gradient for `z` with respect to `x`\n",
    "\n",
    "$$\n",
    "\\frac{\\partial z}{\\partial x} = \\frac{\\partial}{\\partial x}\\left[\\frac{1}{n}\\sum_i^n x_i^2\\right] = \\frac{x}{2}\n",
    "$$"
   ]
  },
  {
   "cell_type": "code",
   "execution_count": 7,
   "metadata": {},
   "outputs": [
    {
     "name": "stdout",
     "output_type": "stream",
     "text": [
      "tensor([[ 0.3158, -0.0723],\n",
      "        [ 0.1984, -0.0685]])\n",
      "tensor([[ 0.3158, -0.0723],\n",
      "        [ 0.1984, -0.0685]], grad_fn=<DivBackward0>)\n"
     ]
    }
   ],
   "source": [
    "z.backward()\n",
    "print(x.grad)\n",
    "print(x/2)"
   ]
  },
  {
   "cell_type": "markdown",
   "metadata": {},
   "source": [
    "These gradients calculations are particularly useful for neural networks. For training we need the gradients of the weights with respect to the cost. With PyTorch, we run data forward through the network to calculate the cost, then, go backwards to calculate the gradients with respect to the cost. Once we have the gradients we can make a gradient descent step. "
   ]
  },
  {
   "cell_type": "markdown",
   "metadata": {},
   "source": [
    "## Get the data and define the network\n",
    "\n",
    "The same as we saw in part 3, we'll load the MNIST dataset and define our network."
   ]
  },
  {
   "cell_type": "code",
   "execution_count": 8,
   "metadata": {},
   "outputs": [],
   "source": [
    "from torchvision import datasets, transforms\n",
    "\n",
    "# Define a transform to normalize the data\n",
    "transform = transforms.Compose([transforms.ToTensor(),\n",
    "                              transforms.Normalize((0.5, 0.5, 0.5), (0.5, 0.5, 0.5)),\n",
    "                             ])\n",
    "# Download and load the training data\n",
    "trainset = datasets.MNIST('MNIST_data/', download=True, train=True, transform=transform)\n",
    "trainloader = torch.utils.data.DataLoader(trainset, batch_size=64, shuffle=True)"
   ]
  },
  {
   "cell_type": "markdown",
   "metadata": {},
   "source": [
    "I'll build a network with `nn.Sequential` here. Only difference from the last part is I'm not actually using softmax on the output, but instead just using the raw output from the last layer. This is because the output from softmax is a probability distribution. Often, the output will have values really close to zero or really close to one. Due to [inaccuracies with representing numbers as floating points](https://docs.python.org/3/tutorial/floatingpoint.html), computations with a softmax output can lose accuracy and become unstable. To get around this, we'll use the raw output, called the **logits**, to calculate the loss."
   ]
  },
  {
   "cell_type": "code",
   "execution_count": 9,
   "metadata": {},
   "outputs": [],
   "source": [
    "# Hyperparameters for our network\n",
    "input_size = 784\n",
    "hidden_sizes = [128, 64]\n",
    "output_size = 10\n",
    "\n",
    "# Build a feed-forward network\n",
    "model = nn.Sequential(OrderedDict([\n",
    "                      ('fc1', nn.Linear(input_size, hidden_sizes[0])),\n",
    "                      ('relu1', nn.ReLU()),\n",
    "                      ('fc2', nn.Linear(hidden_sizes[0], hidden_sizes[1])),\n",
    "                      ('relu2', nn.ReLU()),\n",
    "                      ('logits', nn.Linear(hidden_sizes[1], output_size))]))"
   ]
  },
  {
   "cell_type": "markdown",
   "metadata": {},
   "source": [
    "## Training the network!\n",
    "\n",
    "The first thing we need to do for training is define our loss function. In PyTorch, you'll usually see this as `criterion`. Here we're using softmax output, so we want to use `criterion = nn.CrossEntropyLoss()` as our loss. Later when training, you use `loss = criterion(output, targets)` to calculate the actual loss.\n",
    "\n",
    "We also need to define the optimizer we're using, SGD or Adam, or something along those lines. Here I'll just use SGD with `torch.optim.SGD`, passing in the network parameters and the learning rate."
   ]
  },
  {
   "cell_type": "code",
   "execution_count": 10,
   "metadata": {},
   "outputs": [],
   "source": [
    "criterion = nn.CrossEntropyLoss()\n",
    "optimizer = optim.SGD(model.parameters(), lr=0.01)"
   ]
  },
  {
   "cell_type": "markdown",
   "metadata": {},
   "source": [
    "First, let's consider just one learning step before looping through all the data. The general process with PyTorch:\n",
    "\n",
    "* Make a forward pass through the network to get the logits \n",
    "* Use the logits to calculate the loss\n",
    "* Perform a backward pass through the network with `loss.backward()` to calculate the gradients\n",
    "* Take a step with the optimizer to update the weights\n",
    "\n",
    "Below I'll go through one training step and print out the weights and gradients so you can see how it changes."
   ]
  },
  {
   "cell_type": "code",
   "execution_count": 17,
   "metadata": {},
   "outputs": [
    {
     "data": {
      "text/plain": [
       "Parameter containing:\n",
       "tensor([-0.0185,  0.0391,  0.0245, -0.0308, -0.0083, -0.0194, -0.0224,  0.0221,\n",
       "        -0.0116, -0.0269,  0.0003,  0.0084, -0.0108, -0.0100,  0.0157, -0.0137,\n",
       "         0.0095,  0.0049,  0.0133,  0.0129,  0.0224, -0.0124,  0.0253,  0.0306,\n",
       "        -0.0106, -0.0097, -0.0274,  0.0328, -0.0318, -0.0337, -0.0212, -0.0145,\n",
       "         0.0179,  0.0236,  0.0318,  0.0280,  0.0061,  0.0050, -0.0088,  0.0260,\n",
       "         0.0029, -0.0341, -0.0138,  0.0169,  0.0201,  0.0236, -0.0049,  0.0234,\n",
       "        -0.0220, -0.0296,  0.0328,  0.0307, -0.0085,  0.0170,  0.0023,  0.0192,\n",
       "         0.0306,  0.0022, -0.0213,  0.0181, -0.0316,  0.0193, -0.0189,  0.0276,\n",
       "        -0.0330,  0.0016,  0.0419,  0.0288,  0.0225, -0.0223,  0.0190, -0.0186,\n",
       "        -0.0253,  0.0341, -0.0120, -0.0088,  0.0372, -0.0121,  0.0228, -0.0122,\n",
       "        -0.0255, -0.0141,  0.0318, -0.0006,  0.0062, -0.0074,  0.0367,  0.0314,\n",
       "         0.0066, -0.0258,  0.0328, -0.0306,  0.0001, -0.0288, -0.0161,  0.0271,\n",
       "        -0.0192,  0.0099,  0.0082, -0.0197, -0.0328, -0.0103, -0.0334,  0.0115,\n",
       "         0.0113, -0.0304,  0.0272,  0.0313,  0.0324,  0.0166, -0.0142, -0.0307,\n",
       "         0.0119,  0.0256, -0.0162,  0.0141, -0.0060, -0.0025, -0.0089,  0.0046,\n",
       "        -0.0118, -0.0224,  0.0129, -0.0249, -0.0189,  0.0390,  0.0051, -0.0242],\n",
       "       requires_grad=True)"
      ]
     },
     "execution_count": 17,
     "metadata": {},
     "output_type": "execute_result"
    }
   ],
   "source": [
    "model.fc1.bias"
   ]
  },
  {
   "cell_type": "code",
   "execution_count": 11,
   "metadata": {},
   "outputs": [
    {
     "name": "stdout",
     "output_type": "stream",
     "text": [
      "Initial weights -  Parameter containing:\n",
      "tensor([[ 0.0129,  0.0093,  0.0332,  ...,  0.0353,  0.0311,  0.0341],\n",
      "        [ 0.0032, -0.0168, -0.0040,  ..., -0.0059, -0.0119,  0.0350],\n",
      "        [ 0.0291,  0.0157, -0.0114,  ..., -0.0096, -0.0140,  0.0290],\n",
      "        ...,\n",
      "        [-0.0064, -0.0178, -0.0239,  ...,  0.0273,  0.0104, -0.0107],\n",
      "        [ 0.0109,  0.0014, -0.0069,  ..., -0.0134,  0.0309,  0.0187],\n",
      "        [ 0.0265,  0.0305, -0.0108,  ...,  0.0017, -0.0332,  0.0050]],\n",
      "       requires_grad=True)\n",
      "Gradient - tensor([[-0.0001, -0.0001, -0.0001,  ..., -0.0001, -0.0001, -0.0001],\n",
      "        [-0.0000, -0.0000, -0.0000,  ..., -0.0000, -0.0000, -0.0000],\n",
      "        [ 0.0018,  0.0018,  0.0018,  ...,  0.0018,  0.0018,  0.0018],\n",
      "        ...,\n",
      "        [-0.0016, -0.0016, -0.0016,  ..., -0.0016, -0.0016, -0.0016],\n",
      "        [ 0.0000,  0.0000,  0.0000,  ...,  0.0000,  0.0000,  0.0000],\n",
      "        [-0.0003, -0.0003, -0.0003,  ..., -0.0003, -0.0003, -0.0003]])\n"
     ]
    }
   ],
   "source": [
    "print('Initial weights - ', model.fc1.weight)\n",
    "\n",
    "images, labels = next(iter(trainloader))\n",
    "images.resize_(64, 784)\n",
    "\n",
    "# Clear the gradients, do this because gradients are accumulated\n",
    "optimizer.zero_grad()\n",
    "\n",
    "# Forward pass, then backward pass, then update weights\n",
    "output = model.forward(images)\n",
    "loss = criterion(output, labels)\n",
    "loss.backward()\n",
    "print('Gradient -', model.fc1.weight.grad)\n",
    "optimizer.step()"
   ]
  },
  {
   "cell_type": "code",
   "execution_count": 12,
   "metadata": {},
   "outputs": [
    {
     "name": "stdout",
     "output_type": "stream",
     "text": [
      "Updated weights -  Parameter containing:\n",
      "tensor([[ 0.0129,  0.0093,  0.0332,  ...,  0.0353,  0.0311,  0.0341],\n",
      "        [ 0.0032, -0.0168, -0.0040,  ..., -0.0059, -0.0119,  0.0350],\n",
      "        [ 0.0291,  0.0156, -0.0115,  ..., -0.0096, -0.0140,  0.0290],\n",
      "        ...,\n",
      "        [-0.0063, -0.0177, -0.0239,  ...,  0.0273,  0.0104, -0.0107],\n",
      "        [ 0.0109,  0.0014, -0.0069,  ..., -0.0134,  0.0309,  0.0187],\n",
      "        [ 0.0265,  0.0305, -0.0108,  ...,  0.0017, -0.0332,  0.0050]],\n",
      "       requires_grad=True)\n"
     ]
    }
   ],
   "source": [
    "print('Updated weights - ', model.fc1.weight)"
   ]
  },
  {
   "cell_type": "markdown",
   "metadata": {},
   "source": [
    "### Training for real\n",
    "\n",
    "Now we'll put this algorithm into a loop so we can go through all the images. This is fairly straightforward. We'll loop through the mini-batches in our dataset, pass the data through the network to calculate the losses, get the gradients, then run the optimizer."
   ]
  },
  {
   "cell_type": "code",
   "execution_count": 13,
   "metadata": {},
   "outputs": [],
   "source": [
    "optimizer = optim.SGD(model.parameters(), lr=0.003)"
   ]
  },
  {
   "cell_type": "code",
   "execution_count": 14,
   "metadata": {},
   "outputs": [
    {
     "name": "stdout",
     "output_type": "stream",
     "text": [
      "Epoch: 1/3...  Loss: 2.2978\n",
      "Epoch: 1/3...  Loss: 2.2836\n",
      "Epoch: 1/3...  Loss: 2.2670\n",
      "Epoch: 1/3...  Loss: 2.2568\n",
      "Epoch: 1/3...  Loss: 2.2421\n",
      "Epoch: 1/3...  Loss: 2.2176\n",
      "Epoch: 1/3...  Loss: 2.2014\n",
      "Epoch: 1/3...  Loss: 2.1799\n",
      "Epoch: 1/3...  Loss: 2.1520\n",
      "Epoch: 1/3...  Loss: 2.1203\n",
      "Epoch: 1/3...  Loss: 2.0791\n",
      "Epoch: 1/3...  Loss: 2.0484\n",
      "Epoch: 1/3...  Loss: 1.9953\n",
      "Epoch: 1/3...  Loss: 1.9599\n",
      "Epoch: 1/3...  Loss: 1.9133\n",
      "Epoch: 1/3...  Loss: 1.8451\n",
      "Epoch: 1/3...  Loss: 1.7899\n",
      "Epoch: 1/3...  Loss: 1.7097\n",
      "Epoch: 1/3...  Loss: 1.6791\n",
      "Epoch: 1/3...  Loss: 1.6048\n",
      "Epoch: 1/3...  Loss: 1.5374\n",
      "Epoch: 1/3...  Loss: 1.4622\n",
      "Epoch: 1/3...  Loss: 1.4225\n",
      "Epoch: 2/3...  Loss: 0.7331\n",
      "Epoch: 2/3...  Loss: 1.2851\n",
      "Epoch: 2/3...  Loss: 1.2428\n",
      "Epoch: 2/3...  Loss: 1.1899\n",
      "Epoch: 2/3...  Loss: 1.1614\n",
      "Epoch: 2/3...  Loss: 1.1353\n",
      "Epoch: 2/3...  Loss: 1.0684\n",
      "Epoch: 2/3...  Loss: 1.0113\n",
      "Epoch: 2/3...  Loss: 1.0000\n",
      "Epoch: 2/3...  Loss: 0.9593\n",
      "Epoch: 2/3...  Loss: 0.9115\n",
      "Epoch: 2/3...  Loss: 0.8878\n",
      "Epoch: 2/3...  Loss: 0.8568\n",
      "Epoch: 2/3...  Loss: 0.8316\n",
      "Epoch: 2/3...  Loss: 0.8031\n",
      "Epoch: 2/3...  Loss: 0.8081\n",
      "Epoch: 2/3...  Loss: 0.7915\n",
      "Epoch: 2/3...  Loss: 0.7566\n",
      "Epoch: 2/3...  Loss: 0.7254\n",
      "Epoch: 2/3...  Loss: 0.7217\n",
      "Epoch: 2/3...  Loss: 0.7125\n",
      "Epoch: 2/3...  Loss: 0.7013\n",
      "Epoch: 2/3...  Loss: 0.6560\n",
      "Epoch: 3/3...  Loss: 0.0640\n",
      "Epoch: 3/3...  Loss: 0.6544\n",
      "Epoch: 3/3...  Loss: 0.6118\n",
      "Epoch: 3/3...  Loss: 0.6146\n",
      "Epoch: 3/3...  Loss: 0.6014\n",
      "Epoch: 3/3...  Loss: 0.6155\n",
      "Epoch: 3/3...  Loss: 0.6202\n",
      "Epoch: 3/3...  Loss: 0.5740\n",
      "Epoch: 3/3...  Loss: 0.5975\n",
      "Epoch: 3/3...  Loss: 0.5655\n",
      "Epoch: 3/3...  Loss: 0.5565\n",
      "Epoch: 3/3...  Loss: 0.5690\n",
      "Epoch: 3/3...  Loss: 0.5891\n",
      "Epoch: 3/3...  Loss: 0.5793\n",
      "Epoch: 3/3...  Loss: 0.5628\n",
      "Epoch: 3/3...  Loss: 0.5382\n",
      "Epoch: 3/3...  Loss: 0.5456\n",
      "Epoch: 3/3...  Loss: 0.5131\n",
      "Epoch: 3/3...  Loss: 0.5285\n",
      "Epoch: 3/3...  Loss: 0.5003\n",
      "Epoch: 3/3...  Loss: 0.5188\n",
      "Epoch: 3/3...  Loss: 0.5272\n",
      "Epoch: 3/3...  Loss: 0.4676\n",
      "Epoch: 3/3...  Loss: 0.4701\n"
     ]
    }
   ],
   "source": [
    "epochs = 3\n",
    "print_every = 40\n",
    "steps = 0\n",
    "for e in range(epochs):\n",
    "    running_loss = 0\n",
    "    for images, labels in iter(trainloader):\n",
    "        steps += 1\n",
    "        # Flatten MNIST images into a 784 long vector\n",
    "        images.resize_(images.size()[0], 784)\n",
    "        \n",
    "        optimizer.zero_grad()\n",
    "        \n",
    "        # Forward and backward passes\n",
    "        output = model.forward(images)\n",
    "        loss = criterion(output, labels)\n",
    "        loss.backward()\n",
    "        optimizer.step()\n",
    "        \n",
    "        running_loss += loss.item()\n",
    "        \n",
    "        if steps % print_every == 0:\n",
    "            print(\"Epoch: {}/{}... \".format(e+1, epochs),\n",
    "                  \"Loss: {:.4f}\".format(running_loss/print_every))\n",
    "            \n",
    "            running_loss = 0"
   ]
  },
  {
   "cell_type": "markdown",
   "metadata": {},
   "source": [
    "With the network trained, we can check out it's predictions."
   ]
  },
  {
   "cell_type": "code",
   "execution_count": 15,
   "metadata": {},
   "outputs": [
    {
     "data": {
      "image/png": "[encoded data removed]",
      "text/plain": [
       "<Figure size 432x648 with 2 Axes>"
      ]
     },
     "metadata": {
      "image/png": {
       "height": 224,
       "width": 423
      }
     },
     "output_type": "display_data"
    }
   ],
   "source": [
    "images, labels = next(iter(trainloader))\n",
    "\n",
    "img = images[0].view(1, 784)\n",
    "# Turn off gradients to speed up this part\n",
    "with torch.no_grad():\n",
    "    logits = model.forward(img)\n",
    "\n",
    "# Output of the network are logits, need to take softmax for probabilities\n",
    "ps = F.softmax(logits, dim=1)\n",
    "helper.view_classify(img.view(1, 28, 28), ps)"
   ]
  },
  {
   "cell_type": "markdown",
   "metadata": {},
   "source": [
    "Now our network is brilliant. It can accurately predict the digits in our images. Next up you'll write the code for training a neural network on a more complex dataset."
   ]
  }
 ],
 "metadata": {
  "kernelspec": {
   "display_name": "Python [default]",
   "language": "python",
   "name": "python3"
  },
  "language_info": {
   "codemirror_mode": {
    "name": "ipython",
    "version": 3
   },
   "file_extension": ".py",
   "mimetype": "text/x-python",
   "name": "python",
   "nbconvert_exporter": "python",
   "pygments_lexer": "ipython3",
   "version": "3.6.6"
  }
 },
 "nbformat": 4,
 "nbformat_minor": 2
}
