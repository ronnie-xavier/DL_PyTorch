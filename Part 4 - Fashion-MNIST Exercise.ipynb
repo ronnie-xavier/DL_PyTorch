{
 "cells": [
  {
   "cell_type": "markdown",
   "metadata": {},
   "source": [
    "# Classifying Fashion-MNIST\n",
    "\n",
    "Now it's your turn to build and train a neural network. You'll be using the [Fashion-MNIST dataset](https://github.com/zalandoresearch/fashion-mnist), a drop-in replacement for the MNIST dataset. MNIST is actually quite trivial with neural networks where you can easily achieve better than 97% accuracy. Fashion-MNIST is a set of 28x28 greyscale images of clothes. It's more complex than MNIST, so it's a better representation of the actual performance of your network, and a better representation of datasets you'll use in the real world.\n",
    "\n",
    "<img src='assets/fashion-mnist-sprite.png' width=500px>\n",
    "\n",
    "In this notebook, you'll build your own neural network. For the most part, you could just copy and paste the code from Part 3, but you wouldn't be learning. It's important for you to write the code yourself and get it to work. Feel free to consult the previous notebook though as you work through this.\n",
    "\n",
    "First off, let's load the dataset through torchvision."
   ]
  },
  {
   "cell_type": "code",
   "execution_count": 1,
   "metadata": {},
   "outputs": [],
   "source": [
    "import torch\n",
    "from torchvision import datasets, transforms\n",
    "import helper\n",
    "\n",
    "# Define a transform to normalize the data\n",
    "transform = transforms.Compose([transforms.ToTensor(),\n",
    "                                transforms.Normalize((0.5, 0.5, 0.5), (0.5, 0.5, 0.5))])\n",
    "# Download and load the training data\n",
    "trainset = datasets.FashionMNIST('F_MNIST_data/', download=True, train=True, transform=transform)\n",
    "trainloader = torch.utils.data.DataLoader(trainset, batch_size=64, shuffle=True)\n",
    "\n",
    "# Download and load the test data\n",
    "testset = datasets.FashionMNIST('F_MNIST_data/', download=True, train=False, transform=transform)\n",
    "testloader = torch.utils.data.DataLoader(testset, batch_size=64, shuffle=True)"
   ]
  },
  {
   "cell_type": "markdown",
   "metadata": {},
   "source": [
    "Here we can see one of the images."
   ]
  },
  {
   "cell_type": "code",
   "execution_count": 2,
   "metadata": {},
   "outputs": [
    {
     "data": {
      "image/png": "[encoded data removed]",
      "text/plain": [
       "<Figure size 432x288 with 1 Axes>"
      ]
     },
     "metadata": {},
     "output_type": "display_data"
    }
   ],
   "source": [
    "image, label = next(iter(trainloader))\n",
    "helper.imshow(image[0,:]);"
   ]
  },
  {
   "cell_type": "markdown",
   "metadata": {},
   "source": [
    "With the data loaded, it's time to import the necessary packages."
   ]
  },
  {
   "cell_type": "code",
   "execution_count": 3,
   "metadata": {},
   "outputs": [],
   "source": [
    "%matplotlib inline\n",
    "%config InlineBackend.figure_format = 'retina'\n",
    "\n",
    "import matplotlib.pyplot as plt\n",
    "import numpy as np\n",
    "import time\n",
    "\n",
    "import torch\n",
    "from torch import nn\n",
    "from torch import optim\n",
    "import torch.nn.functional as F\n",
    "from torchvision import datasets, transforms\n",
    "\n",
    "import helper"
   ]
  },
  {
   "cell_type": "markdown",
   "metadata": {},
   "source": [
    "## Building the network\n",
    "\n",
    "Here you should define your network. As with MNIST, each image is 28x28 which is a total of 784 pixels, and there are 10 classes. You should include at least one hidden layer. We suggest you use ReLU activations for the layers and to return the logits from the forward pass. It's up to you how many layers you add and the size of those layers."
   ]
  },
  {
   "cell_type": "code",
   "execution_count": 4,
   "metadata": {},
   "outputs": [],
   "source": [
    "# TODO: Define your network architecture here\n",
    "from collections import OrderedDict\n",
    "\n",
    "input_units = 784\n",
    "hidden_units = [600, 400, 100] \n",
    "output_units = 10\n",
    "\n",
    "model = nn.Sequential(OrderedDict([\n",
    "                      ('fc1', nn.Linear(input_units, hidden_units[0])),\n",
    "                      ('relu1', nn.ReLU()),\n",
    "                      ('fc2', nn.Linear(hidden_units[0], hidden_units[1])),\n",
    "                      ('relu2', nn.ReLU()),\n",
    "                      ('fc3', nn.Linear(hidden_units[1], hidden_units[2])),\n",
    "                      ('relu3', nn.ReLU()),\n",
    "                      ('logits', nn.Linear(hidden_units[2], output_units))]))      "
   ]
  },
  {
   "cell_type": "markdown",
   "metadata": {},
   "source": [
    "# Train the network\n",
    "\n",
    "Now you should create your network and train it. First you'll want to define [the criterion](http://pytorch.org/docs/master/nn.html#loss-functions) ( something like `nn.CrossEntropyLoss`) and [the optimizer](http://pytorch.org/docs/master/optim.html) (typically `optim.SGD` or `optim.Adam`).\n",
    "\n",
    "Then write the training code. Remember the training pass is a fairly straightforward process:\n",
    "\n",
    "* Make a forward pass through the network to get the logits \n",
    "* Use the logits to calculate the loss\n",
    "* Perform a backward pass through the network with `loss.backward()` to calculate the gradients\n",
    "* Take a step with the optimizer to update the weights\n",
    "\n",
    "By adjusting the hyperparameters (hidden units, learning rate, etc), you should be able to get the training loss below 0.4."
   ]
  },
  {
   "cell_type": "code",
   "execution_count": 5,
   "metadata": {},
   "outputs": [],
   "source": [
    "# TODO: Create the network, define the criterion and optimizer\n",
    "# model has already been created !\n",
    "criterion = nn.CrossEntropyLoss()\n",
    "optimiser =  torch.optim.SGD(model.parameters(), lr=0.003)"
   ]
  },
  {
   "cell_type": "code",
   "execution_count": 40,
   "metadata": {},
   "outputs": [
    {
     "name": "stderr",
     "output_type": "stream",
     "text": [
      "/anaconda3/lib/python3.6/site-packages/torch/tensor.py:263: UserWarning: non-inplace resize is deprecated\n",
      "  warnings.warn(\"non-inplace resize is deprecated\")\n"
     ]
    },
    {
     "name": "stdout",
     "output_type": "stream",
     "text": [
      "item loss is 0.5191968083381653. Avg loss is 0.6720945470035076\n",
      "item loss is 0.6492079496383667. Avg loss is 0.6436752177774906\n",
      "item loss is 0.8076460957527161. Avg loss is 0.6444791816174984\n",
      "item loss is 0.7150744199752808. Avg loss is 0.6271731480956078\n",
      "item loss is 0.609733521938324. Avg loss is 0.6289202377200127\n",
      "item loss is 0.5925514101982117. Avg loss is 0.6218578569591046\n",
      "item loss is 0.7284898161888123. Avg loss is 0.6581367373466491\n",
      "item loss is 0.7937913537025452. Avg loss is 0.6335934430360795\n",
      "item loss is 0.7106102108955383. Avg loss is 0.6196763850748539\n",
      "item loss is 0.7098907828330994. Avg loss is 0.6530249208211899\n",
      "item loss is 0.7595273852348328. Avg loss is 0.6543993838131428\n",
      "item loss is 0.6867120862007141. Avg loss is 0.6356941871345043\n",
      "item loss is 0.5088663101196289. Avg loss is 0.6332979135215282\n",
      "item loss is 0.6203113794326782. Avg loss is 0.6344317607581615\n",
      "item loss is 0.3793231248855591. Avg loss is 0.6191902540624141\n",
      "item loss is 0.5975899696350098. Avg loss is 0.616696534305811\n",
      "item loss is 0.6291535496711731. Avg loss is 0.5960403829813004\n",
      "item loss is 0.47537603974342346. Avg loss is 0.5895362988114357\n",
      "item loss is 0.42913058400154114. Avg loss is 0.6043872952461242\n",
      "item loss is 0.49136674404144287. Avg loss is 0.622788493335247\n",
      "item loss is 0.6230804920196533. Avg loss is 0.6172653011977672\n",
      "item loss is 0.5562663078308105. Avg loss is 0.6171033158898354\n",
      "item loss is 0.645045280456543. Avg loss is 0.614285547286272\n",
      "item loss is 0.7769967913627625. Avg loss is 0.609126815199852\n",
      "item loss is 0.6808812618255615. Avg loss is 0.5887349337339401\n",
      "item loss is 0.5300812721252441. Avg loss is 0.5956701524555683\n",
      "item loss is 0.6548770070075989. Avg loss is 0.6103374116122723\n",
      "item loss is 0.5840024352073669. Avg loss is 0.5845505952835083\n",
      "item loss is 0.5983209013938904. Avg loss is 0.628370525687933\n",
      "item loss is 0.6667686700820923. Avg loss is 0.6215621024370194\n",
      "item loss is 0.5023258924484253. Avg loss is 0.5732226841151714\n",
      "item loss is 0.5855792164802551. Avg loss is 0.5813534736633301\n",
      "item loss is 0.6507347822189331. Avg loss is 0.5726237341761589\n",
      "item loss is 0.5260545015335083. Avg loss is 0.5956358693540096\n",
      "item loss is 0.5698707103729248. Avg loss is 0.5748725689947605\n",
      "item loss is 0.5507175922393799. Avg loss is 0.592795780301094\n",
      "item loss is 0.4799226224422455. Avg loss is 0.603465223312378\n",
      "item loss is 0.5046234130859375. Avg loss is 0.5609486892819404\n",
      "item loss is 0.7137830853462219. Avg loss is 0.5725761882960796\n",
      "item loss is 0.4962957203388214. Avg loss is 0.5736604340374469\n",
      "item loss is 0.40930724143981934. Avg loss is 0.5548491567373276\n",
      "item loss is 0.7720625996589661. Avg loss is 0.5817367687821389\n",
      "item loss is 0.5476738214492798. Avg loss is 0.5601612061262131\n",
      "item loss is 0.7930776476860046. Avg loss is 0.5601291924715042\n",
      "item loss is 0.7518312931060791. Avg loss is 0.6066615633666516\n",
      "item loss is 0.7198203802108765. Avg loss is 0.5591733947396278\n",
      "item loss is 0.6649227738380432. Avg loss is 0.5613462954759598\n",
      "item loss is 0.4583851397037506. Avg loss is 0.5627478539943696\n",
      "item loss is 0.6434122323989868. Avg loss is 0.5674617722630501\n",
      "item loss is 0.5965766906738281. Avg loss is 0.5584757506847382\n",
      "item loss is 0.5636674761772156. Avg loss is 0.5788508854806423\n",
      "item loss is 0.5577892661094666. Avg loss is 0.5423358477652073\n",
      "item loss is 0.47878599166870117. Avg loss is 0.5998067818582058\n",
      "item loss is 0.4668058156967163. Avg loss is 0.5360277153551578\n",
      "item loss is 0.573060929775238. Avg loss is 0.5519864022731781\n",
      "item loss is 0.4550052881240845. Avg loss is 0.5584393851459026\n",
      "item loss is 0.3303893804550171. Avg loss is 0.5183113545179368\n",
      "item loss is 0.3844413459300995. Avg loss is 0.5181803993880749\n",
      "item loss is 0.7366870641708374. Avg loss is 0.543828484416008\n",
      "item loss is 0.5485939979553223. Avg loss is 0.5489348448812962\n",
      "item loss is 0.6973026990890503. Avg loss is 0.5291003070771694\n",
      "item loss is 0.5431959629058838. Avg loss is 0.5374223433434964\n",
      "item loss is 0.4729207754135132. Avg loss is 0.5601587817072868\n",
      "item loss is 0.5541201829910278. Avg loss is 0.5596141427755356\n",
      "item loss is 0.5378201007843018. Avg loss is 0.5467867836356163\n",
      "item loss is 0.7719008326530457. Avg loss is 0.5436262540519238\n",
      "item loss is 0.6158197522163391. Avg loss is 0.5486543446779251\n",
      "item loss is 0.4866841435432434. Avg loss is 0.5336994603276253\n",
      "item loss is 0.40761464834213257. Avg loss is 0.5717812567949295\n",
      "item loss is 0.6596405506134033. Avg loss is 0.5302297949790955\n"
     ]
    }
   ],
   "source": [
    "# TODO: Train the network here\n",
    "epoch = 3\n",
    "print_every = 40\n",
    "steps = 0\n",
    "total_loss = 0\n",
    "\n",
    "for e in range(epoch):\n",
    "    for images,labels in iter(trainloader):\n",
    "        steps+=1\n",
    "        input_images = images.resize(images.size()[0],784)\n",
    "        \n",
    "        optimiser.zero_grad()\n",
    "        \n",
    "        outputs=model.forward(input_images)\n",
    "        \n",
    "\n",
    "        loss = criterion(outputs,labels)\n",
    "        loss.backward()\n",
    "        \n",
    "        optimiser.step() \n",
    "        \n",
    "        total_loss+= loss.item()\n",
    "\n",
    "        if steps%print_every ==0:\n",
    "            print('item loss is {}. Avg loss is {}'.format(loss.item(), total_loss/print_every))\n",
    "            steps=0\n",
    "            total_loss=0    \n",
    "    \n",
    "    \n",
    "    "
   ]
  },
  {
   "cell_type": "code",
   "execution_count": 30,
   "metadata": {},
   "outputs": [],
   "source": [
    "correct_values = {\n",
    "0:'T-shirt/top',\n",
    "1:'Trouser',\n",
    "2:'Pullover',\n",
    "3:'Dress',\n",
    "4:'Coat',\n",
    "5:'Sandal',\n",
    "6:'Shirt',\n",
    "7:'Sneaker',\n",
    "8:'Bag',\n",
    "9:'Ankle boot' }"
   ]
  },
  {
   "cell_type": "code",
   "execution_count": 56,
   "metadata": {},
   "outputs": [
    {
     "name": "stderr",
     "output_type": "stream",
     "text": [
      "/anaconda3/lib/python3.6/site-packages/ipykernel/__main__.py:10: UserWarning: Implicit dimension choice for softmax has been deprecated. Change the call to include dim=X as an argument.\n"
     ]
    },
    {
     "data": {
      "text/plain": [
       "'Trouser'"
      ]
     },
     "execution_count": 56,
     "metadata": {},
     "output_type": "execute_result"
    },
    {
     "data": {
      "image/png": "[encoded data removed]",
      "text/plain": [
       "<Figure size 432x648 with 2 Axes>"
      ]
     },
     "metadata": {
      "image/png": {
       "height": 204,
       "width": 423
      }
     },
     "output_type": "display_data"
    }
   ],
   "source": [
    "# Test out your network!\n",
    "\n",
    "dataiter = iter(testloader)\n",
    "images, labels = dataiter.next()\n",
    "img = images[0]\n",
    "# Convert 2D image to 1D vector\n",
    "img = img.resize_(1, 784)\n",
    "\n",
    "# TODO: Calculate the class probabilities (softmax) for img\n",
    "ps = F.softmax(model.forward(img))\n",
    "\n",
    "# Plot the image and probabilities\n",
    "helper.view_classify(img.resize_(1, 28, 28), ps, version='Fashion')\n",
    "\n",
    "correct_values[labels[0].item()]"
   ]
  },
  {
   "cell_type": "markdown",
   "metadata": {},
   "source": [
    "Now that your network is trained, you'll want to save it to disk so you can load it later instead of training it again. Obviously, it's impractical to train a network every time you need one. In practice, you'll train it once, save the model, then reload it for further training or making predictions. In the next part, I'll show you how to save and load trained models."
   ]
  },
  {
   "cell_type": "code",
   "execution_count": null,
   "metadata": {},
   "outputs": [],
   "source": [
    "#Ronnie to do when there is time - Calculate accuracy of the model over the testing set\n",
    "\n"
   ]
  }
 ],
 "metadata": {
  "kernelspec": {
   "display_name": "Python [default]",
   "language": "python",
   "name": "python3"
  },
  "language_info": {
   "codemirror_mode": {
    "name": "ipython",
    "version": 3
   },
   "file_extension": ".py",
   "mimetype": "text/x-python",
   "name": "python",
   "nbconvert_exporter": "python",
   "pygments_lexer": "ipython3",
   "version": "3.6.6"
  }
 },
 "nbformat": 4,
 "nbformat_minor": 2
}
