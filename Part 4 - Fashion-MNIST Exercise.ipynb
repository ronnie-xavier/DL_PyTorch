{
 "cells": [
  {
   "cell_type": "markdown",
   "metadata": {},
   "source": [
    "# Classifying Fashion-MNIST\n",
    "\n",
    "Now it's your turn to build and train a neural network. You'll be using the [Fashion-MNIST dataset](https://github.com/zalandoresearch/fashion-mnist), a drop-in replacement for the MNIST dataset. MNIST is actually quite trivial with neural networks where you can easily achieve better than 97% accuracy. Fashion-MNIST is a set of 28x28 greyscale images of clothes. It's more complex than MNIST, so it's a better representation of the actual performance of your network, and a better representation of datasets you'll use in the real world.\n",
    "\n",
    "<img src='assets/fashion-mnist-sprite.png' width=500px>\n",
    "\n",
    "In this notebook, you'll build your own neural network. For the most part, you could just copy and paste the code from Part 3, but you wouldn't be learning. It's important for you to write the code yourself and get it to work. Feel free to consult the previous notebook though as you work through this.\n",
    "\n",
    "First off, let's load the dataset through torchvision."
   ]
  },
  {
   "cell_type": "code",
   "execution_count": 1,
   "metadata": {},
   "outputs": [],
   "source": [
    "import torch\n",
    "from torchvision import datasets, transforms\n",
    "import helper\n",
    "\n",
    "# Define a transform to normalize the data\n",
    "transform = transforms.Compose([transforms.ToTensor(),\n",
    "                                transforms.Normalize((0.5, 0.5, 0.5), (0.5, 0.5, 0.5))])\n",
    "# Download and load the training data\n",
    "trainset = datasets.FashionMNIST('F_MNIST_data/', download=True, train=True, transform=transform)\n",
    "trainloader = torch.utils.data.DataLoader(trainset, batch_size=64, shuffle=True)\n",
    "\n",
    "# Download and load the test data\n",
    "testset = datasets.FashionMNIST('F_MNIST_data/', download=True, train=False, transform=transform)\n",
    "testloader = torch.utils.data.DataLoader(testset, batch_size=64, shuffle=True)"
   ]
  },
  {
   "cell_type": "markdown",
   "metadata": {},
   "source": [
    "Here we can see one of the images."
   ]
  },
  {
   "cell_type": "code",
   "execution_count": 2,
   "metadata": {},
   "outputs": [
    {
     "data": {
      "image/png": "[encoded data removed]",
      "text/plain": [
       "<Figure size 432x288 with 1 Axes>"
      ]
     },
     "metadata": {},
     "output_type": "display_data"
    }
   ],
   "source": [
    "image, label = next(iter(trainloader))\n",
    "helper.imshow(image[0,:]);"
   ]
  },
  {
   "cell_type": "markdown",
   "metadata": {},
   "source": [
    "With the data loaded, it's time to import the necessary packages."
   ]
  },
  {
   "cell_type": "code",
   "execution_count": 3,
   "metadata": {},
   "outputs": [],
   "source": [
    "%matplotlib inline\n",
    "%config InlineBackend.figure_format = 'retina'\n",
    "\n",
    "import matplotlib.pyplot as plt\n",
    "import numpy as np\n",
    "import time\n",
    "\n",
    "import torch\n",
    "from torch import nn\n",
    "from torch import optim\n",
    "import torch.nn.functional as F\n",
    "from torchvision import datasets, transforms\n",
    "\n",
    "import helper"
   ]
  },
  {
   "cell_type": "markdown",
   "metadata": {},
   "source": [
    "## Building the network\n",
    "\n",
    "Here you should define your network. As with MNIST, each image is 28x28 which is a total of 784 pixels, and there are 10 classes. You should include at least one hidden layer. We suggest you use ReLU activations for the layers and to return the logits from the forward pass. It's up to you how many layers you add and the size of those layers."
   ]
  },
  {
   "cell_type": "code",
   "execution_count": 4,
   "metadata": {},
   "outputs": [],
   "source": [
    "# TODO: Define your network architecture here\n",
    "from collections import OrderedDict\n",
    "\n",
    "input_units = 784\n",
    "hidden_units = [600, 400, 100] \n",
    "output_units = 10\n",
    "\n",
    "model = nn.Sequential(OrderedDict([\n",
    "                      ('fc1', nn.Linear(input_units, hidden_units[0])),\n",
    "                      ('relu1', nn.ReLU()),\n",
    "                      ('fc2', nn.Linear(hidden_units[0], hidden_units[1])),\n",
    "                      ('relu2', nn.ReLU()),\n",
    "                      ('fc3', nn.Linear(hidden_units[1], hidden_units[2])),\n",
    "                      ('relu3', nn.ReLU()),\n",
    "                      ('logits', nn.Linear(hidden_units[2], output_units))]))      "
   ]
  },
  {
   "cell_type": "markdown",
   "metadata": {},
   "source": [
    "# Train the network\n",
    "\n",
    "Now you should create your network and train it. First you'll want to define [the criterion](http://pytorch.org/docs/master/nn.html#loss-functions) ( something like `nn.CrossEntropyLoss`) and [the optimizer](http://pytorch.org/docs/master/optim.html) (typically `optim.SGD` or `optim.Adam`).\n",
    "\n",
    "Then write the training code. Remember the training pass is a fairly straightforward process:\n",
    "\n",
    "* Make a forward pass through the network to get the logits \n",
    "* Use the logits to calculate the loss\n",
    "* Perform a backward pass through the network with `loss.backward()` to calculate the gradients\n",
    "* Take a step with the optimizer to update the weights\n",
    "\n",
    "By adjusting the hyperparameters (hidden units, learning rate, etc), you should be able to get the training loss below 0.4."
   ]
  },
  {
   "cell_type": "code",
   "execution_count": 5,
   "metadata": {},
   "outputs": [],
   "source": [
    "# TODO: Create the network, define the criterion and optimizer\n",
    "# model has already been created !\n",
    "criterion = nn.CrossEntropyLoss()\n",
    "optimiser =  torch.optim.SGD(model.parameters(), lr=0.003)"
   ]
  },
  {
   "cell_type": "code",
   "execution_count": 6,
   "metadata": {},
   "outputs": [],
   "source": [
    "# From Part 5 - Inference and Validation\n",
    "#Implement a function for the validation pass\n",
    "def validation(model, testloader, criterion):\n",
    "    test_loss = 0\n",
    "    accuracy = 0\n",
    "    for images, labels in testloader:\n",
    "\n",
    "        images.resize_(images.shape[0], 784)\n",
    "\n",
    "        output = model.forward(images)\n",
    "        test_loss += criterion(output, labels).item()\n",
    "\n",
    "        ps = torch.exp(output)\n",
    "        equality = (labels.data == ps.max(dim=1)[1])\n",
    "        \n",
    "        accuracy += equality.type(torch.FloatTensor).mean()\n",
    "    \n",
    "    return test_loss, accuracy"
   ]
  },
  {
   "cell_type": "code",
   "execution_count": 7,
   "metadata": {},
   "outputs": [
    {
     "name": "stderr",
     "output_type": "stream",
     "text": [
      "/anaconda3/lib/python3.6/site-packages/torch/tensor.py:263: UserWarning: non-inplace resize is deprecated\n",
      "  warnings.warn(\"non-inplace resize is deprecated\")\n"
     ]
    },
    {
     "name": "stdout",
     "output_type": "stream",
     "text": [
      "item loss is 2.2981441020965576. Avg loss is 2.3023065507411955\n",
      "test_loss 2.2978579785413804 accuracy 0.11236067116260529\n",
      "item loss is 2.289738655090332. Avg loss is 2.2923408091068267\n",
      "test_loss 2.2879326525767136 accuracy 0.16530652344226837\n",
      "item loss is 2.277733564376831. Avg loss is 2.283693140745163\n",
      "test_loss 2.2779994329829125 accuracy 0.2342754751443863\n",
      "item loss is 2.2572202682495117. Avg loss is 2.2721182107925415\n",
      "test_loss 2.2674729520348227 accuracy 0.32862260937690735\n",
      "item loss is 2.2637839317321777. Avg loss is 2.259683448076248\n",
      "test_loss 2.255691464539546 accuracy 0.38793790340423584\n",
      "item loss is 2.2420494556427. Avg loss is 2.2483279407024384\n",
      "test_loss 2.2430145558278274 accuracy 0.41610270738601685\n",
      "item loss is 2.243192434310913. Avg loss is 2.235658186674118\n",
      "test_loss 2.2296496819538674 accuracy 0.4052547812461853\n",
      "item loss is 2.2107131481170654. Avg loss is 2.219566875696182\n",
      "test_loss 2.2136843887863646 accuracy 0.4085390269756317\n",
      "item loss is 2.212245464324951. Avg loss is 2.204497981071472\n",
      "test_loss 2.1958193429716073 accuracy 0.3980891704559326\n",
      "item loss is 2.1673200130462646. Avg loss is 2.187859046459198\n",
      "test_loss 2.175891548205333 accuracy 0.4033638536930084\n",
      "item loss is 2.145345449447632. Avg loss is 2.1639494240283965\n",
      "test_loss 2.152069058387902 accuracy 0.41938695311546326\n",
      "item loss is 2.093618392944336. Avg loss is 2.138856041431427\n",
      "test_loss 2.124337387692397 accuracy 0.4137141704559326\n",
      "item loss is 2.132004976272583. Avg loss is 2.112961971759796\n",
      "test_loss 2.0927113742585393 accuracy 0.4102309048175812\n",
      "item loss is 2.0675954818725586. Avg loss is 2.079862153530121\n",
      "test_loss 2.0574567553344045 accuracy 0.41291800141334534\n",
      "item loss is 2.02197003364563. Avg loss is 2.0398825079202654\n",
      "test_loss 2.0165511058394316 accuracy 0.4113256335258484\n",
      "item loss is 1.965228796005249. Avg loss is 1.99667187333107\n",
      "test_loss 1.9712018154229327 accuracy 0.42665207386016846\n",
      "item loss is 1.910896897315979. Avg loss is 1.950953370332718\n",
      "test_loss 1.920790401233989 accuracy 0.4342157542705536\n",
      "item loss is 1.8286080360412598. Avg loss is 1.9016430377960205\n",
      "test_loss 1.8685929357625877 accuracy 0.42973726987838745\n",
      "item loss is 1.7697887420654297. Avg loss is 1.842389327287674\n",
      "test_loss 1.8130859493449996 accuracy 0.44028663635253906\n",
      "item loss is 1.79024076461792. Avg loss is 1.7733260482549666\n",
      "test_loss 1.7565123556525843 accuracy 0.4426751732826233\n",
      "item loss is 1.6038607358932495. Avg loss is 1.7242373257875443\n",
      "test_loss 1.7023609937376278 accuracy 0.4312300980091095\n",
      "item loss is 1.5435398817062378. Avg loss is 1.6718625873327255\n",
      "test_loss 1.6455617444530415 accuracy 0.4565087556838989\n",
      "item loss is 1.5816997289657593. Avg loss is 1.622173362970352\n",
      "test_loss 1.5922950377130205 accuracy 0.4761146605014801\n",
      "item loss is 1.5577582120895386. Avg loss is 1.5672180891036986\n",
      "test_loss 1.540453698984377 accuracy 0.5157245397567749\n",
      "item loss is 1.400676965713501. Avg loss is 1.4931738764047622\n",
      "test_loss 1.487638432508821 accuracy 0.5194068551063538\n",
      "item loss is 1.4789518117904663. Avg loss is 1.4570529758930206\n",
      "test_loss 1.439868323362557 accuracy 0.5430931448936462\n",
      "item loss is 1.3461247682571411. Avg loss is 1.409563347697258\n",
      "test_loss 1.3915668642444976 accuracy 0.5541401505470276\n",
      "item loss is 1.2300184965133667. Avg loss is 1.3740512937307359\n",
      "test_loss 1.3454198958767447 accuracy 0.5731489062309265\n",
      "item loss is 1.2955011129379272. Avg loss is 1.3296939253807067\n",
      "test_loss 1.3022054828655947 accuracy 0.590664803981781\n",
      "item loss is 1.1891709566116333. Avg loss is 1.2770500123500823\n",
      "test_loss 1.2605701776067162 accuracy 0.6019108295440674\n",
      "item loss is 1.244621753692627. Avg loss is 1.2339264899492264\n",
      "test_loss 1.225013635720417 accuracy 0.6189291477203369\n",
      "item loss is 1.114383578300476. Avg loss is 1.188796165585518\n",
      "test_loss 1.1882661391215719 accuracy 0.6090764403343201\n",
      "item loss is 1.1796990633010864. Avg loss is 1.152207651734352\n",
      "test_loss 1.154412979912606 accuracy 0.6105692386627197\n",
      "item loss is 1.1812922954559326. Avg loss is 1.1254141092300416\n",
      "test_loss 1.1234572256446644 accuracy 0.6169387102127075\n",
      "item loss is 1.0005595684051514. Avg loss is 1.0994796261191369\n",
      "test_loss 1.0929881710155753 accuracy 0.6352508068084717\n",
      "item loss is 1.1584794521331787. Avg loss is 1.0928116366267204\n",
      "test_loss 1.0653643467623717 accuracy 0.6559514403343201\n",
      "item loss is 1.1068016290664673. Avg loss is 1.0544791951775552\n",
      "test_loss 1.039181183857523 accuracy 0.6734673380851746\n",
      "item loss is 1.1012576818466187. Avg loss is 1.0453049108386039\n",
      "test_loss 1.0163143755524022 accuracy 0.6827229261398315\n",
      "item loss is 0.9172645211219788. Avg loss is 1.0007378429174423\n",
      "test_loss 0.993499448724613 accuracy 0.681329607963562\n",
      "item loss is 0.9390824437141418. Avg loss is 0.973593746125698\n",
      "test_loss 0.9737371939003088 accuracy 0.681130588054657\n",
      "item loss is 0.829925537109375. Avg loss is 0.980136638879776\n",
      "test_loss 0.9539121176786484 accuracy 0.6845143437385559\n",
      "item loss is 0.8729208111763. Avg loss is 0.9460825130343438\n",
      "test_loss 0.9359667646657129 accuracy 0.684215784072876\n",
      "item loss is 0.9384134411811829. Avg loss is 0.9107451900839806\n",
      "test_loss 0.9203052851045208 accuracy 0.6988455653190613\n",
      "item loss is 0.8543561697006226. Avg loss is 0.8959254056215287\n",
      "test_loss 0.9041552816986278 accuracy 0.6980493664741516\n",
      "item loss is 0.8991326689720154. Avg loss is 0.8983644232153892\n",
      "test_loss 0.8926767627145075 accuracy 0.693869411945343\n",
      "item loss is 0.7177331447601318. Avg loss is 0.8827224463224411\n",
      "test_loss 0.8819749081970021 accuracy 0.6862062215805054\n",
      "item loss is 0.8862301111221313. Avg loss is 0.8532911881804466\n",
      "test_loss 0.8644638684145205 accuracy 0.7080016136169434\n",
      "item loss is 0.7964622974395752. Avg loss is 0.8616771519184112\n",
      "test_loss 0.8565119622619288 accuracy 0.7044187784194946\n",
      "item loss is 0.8363147974014282. Avg loss is 0.8357359245419502\n",
      "test_loss 0.8432358898174991 accuracy 0.7013335824012756\n",
      "item loss is 0.935769259929657. Avg loss is 0.8144937381148338\n",
      "test_loss 0.8326030350794458 accuracy 0.7105891704559326\n",
      "item loss is 0.9117326140403748. Avg loss is 0.8116108119487763\n",
      "test_loss 0.8230976936923471 accuracy 0.7167595624923706\n",
      "item loss is 0.6778111457824707. Avg loss is 0.7726798340678215\n",
      "test_loss 0.8200859526160417 accuracy 0.7113853693008423\n",
      "item loss is 0.7358309030532837. Avg loss is 0.7967946425080299\n",
      "test_loss 0.8038879399466666 accuracy 0.7209395170211792\n",
      "item loss is 0.7558518052101135. Avg loss is 0.7993325024843216\n",
      "test_loss 0.7991521453401845 accuracy 0.7241241931915283\n",
      "item loss is 0.7558341026306152. Avg loss is 0.7964768663048745\n",
      "test_loss 0.7891139509571585 accuracy 0.7228304147720337\n",
      "item loss is 0.7489452362060547. Avg loss is 0.7945836409926414\n",
      "test_loss 0.7843698927551318 accuracy 0.7163614630699158\n",
      "item loss is 0.6774519681930542. Avg loss is 0.7758890241384506\n",
      "test_loss 0.7755821575025085 accuracy 0.7281050682067871\n",
      "item loss is 0.8313686847686768. Avg loss is 0.7800336048007012\n",
      "test_loss 0.7682994201684453 accuracy 0.7296974658966064\n",
      "item loss is 0.8267234563827515. Avg loss is 0.790189479291439\n",
      "test_loss 0.7660674505932316 accuracy 0.7199442386627197\n",
      "item loss is 0.6047415137290955. Avg loss is 0.7261567786335945\n",
      "test_loss 0.7580229727325926 accuracy 0.7323845624923706\n",
      "item loss is 0.5717876553535461. Avg loss is 0.7301132082939148\n",
      "test_loss 0.7559626983229522 accuracy 0.7179538011550903\n",
      "item loss is 0.897248387336731. Avg loss is 0.7576116770505905\n",
      "test_loss 0.745487291342134 accuracy 0.7264131903648376\n",
      "item loss is 0.748060941696167. Avg loss is 0.7307418137788773\n",
      "test_loss 0.7421312772544326 accuracy 0.7328821420669556\n",
      "item loss is 0.726798415184021. Avg loss is 0.7268596038222312\n",
      "test_loss 0.7364706087643933 accuracy 0.7326831221580505\n",
      "item loss is 0.7377122044563293. Avg loss is 0.729234728217125\n",
      "test_loss 0.7307042525072766 accuracy 0.7400477528572083\n",
      "item loss is 0.9030795097351074. Avg loss is 0.7116837784647941\n",
      "test_loss 0.72505576785203 accuracy 0.7320860028266907\n",
      "item loss is 0.6597467660903931. Avg loss is 0.7039073944091797\n",
      "test_loss 0.7247203041793434 accuracy 0.740545392036438\n",
      "item loss is 0.7274526357650757. Avg loss is 0.7083255484700203\n",
      "test_loss 0.718302779326773 accuracy 0.7336783409118652\n",
      "item loss is 0.8251928687095642. Avg loss is 0.6946868941187858\n"
     ]
    },
    {
     "name": "stdout",
     "output_type": "stream",
     "text": [
      "test_loss 0.7122925016910407 accuracy 0.7402468323707581\n",
      "item loss is 0.5179068446159363. Avg loss is 0.7050871588289738\n",
      "test_loss 0.7093625858331182 accuracy 0.7447253465652466\n"
     ]
    }
   ],
   "source": [
    "# TODO: Train the network here\n",
    "epoch = 3\n",
    "print_every = 40\n",
    "steps = 0\n",
    "total_loss = 0\n",
    "\n",
    "for e in range(epoch):\n",
    "    for images,labels in iter(trainloader):\n",
    "        steps+=1\n",
    "        input_images = images.resize(images.size()[0],784)\n",
    "        \n",
    "        optimiser.zero_grad()\n",
    "        \n",
    "        outputs=model.forward(input_images)\n",
    "        \n",
    "\n",
    "        loss = criterion(outputs,labels)\n",
    "        loss.backward()\n",
    "        \n",
    "        optimiser.step() \n",
    "        \n",
    "        total_loss+= loss.item()\n",
    "\n",
    "        if steps%print_every ==0:\n",
    "            print('item loss is {}. Avg loss is {}'.format(loss.item(), total_loss/print_every))\n",
    "            \n",
    "            test_loss, accuracy = validation(model, testloader, criterion)\n",
    "            print (\"test_loss {} accuracy {}\".format(test_loss/len(testloader), accuracy/len(testloader)))\n",
    "            \n",
    "            steps=0\n",
    "            total_loss=0    \n",
    "    \n",
    "    \n",
    "    "
   ]
  },
  {
   "cell_type": "code",
   "execution_count": 8,
   "metadata": {},
   "outputs": [],
   "source": [
    "correct_values = {\n",
    "0:'T-shirt/top',\n",
    "1:'Trouser',\n",
    "2:'Pullover',\n",
    "3:'Dress',\n",
    "4:'Coat',\n",
    "5:'Sandal',\n",
    "6:'Shirt',\n",
    "7:'Sneaker',\n",
    "8:'Bag',\n",
    "9:'Ankle boot' }"
   ]
  },
  {
   "cell_type": "code",
   "execution_count": 9,
   "metadata": {},
   "outputs": [
    {
     "name": "stderr",
     "output_type": "stream",
     "text": [
      "/anaconda3/lib/python3.6/site-packages/ipykernel/__main__.py:10: UserWarning: Implicit dimension choice for softmax has been deprecated. Change the call to include dim=X as an argument.\n"
     ]
    },
    {
     "data": {
      "text/plain": [
       "'Dress'"
      ]
     },
     "execution_count": 9,
     "metadata": {},
     "output_type": "execute_result"
    },
    {
     "data": {
      "image/png": "[encoded data removed]",
      "text/plain": [
       "<Figure size 432x648 with 2 Axes>"
      ]
     },
     "metadata": {
      "image/png": {
       "height": 204,
       "width": 423
      }
     },
     "output_type": "display_data"
    }
   ],
   "source": [
    "# Test out your network!\n",
    "\n",
    "dataiter = iter(testloader)\n",
    "images, labels = dataiter.next()\n",
    "img = images[0]\n",
    "# Convert 2D image to 1D vector\n",
    "img = img.resize_(1, 784)\n",
    "\n",
    "# TODO: Calculate the class probabilities (softmax) for img\n",
    "ps = F.softmax(model.forward(img))\n",
    "\n",
    "# Plot the image and probabilities\n",
    "helper.view_classify(img.resize_(1, 28, 28), ps, version='Fashion')\n",
    "\n",
    "correct_values[labels[0].item()]"
   ]
  },
  {
   "cell_type": "markdown",
   "metadata": {},
   "source": [
    "Now that your network is trained, you'll want to save it to disk so you can load it later instead of training it again. Obviously, it's impractical to train a network every time you need one. In practice, you'll train it once, save the model, then reload it for further training or making predictions. In the next part, I'll show you how to save and load trained models."
   ]
  }
 ],
 "metadata": {
  "kernelspec": {
   "display_name": "Python [default]",
   "language": "python",
   "name": "python3"
  },
  "language_info": {
   "codemirror_mode": {
    "name": "ipython",
    "version": 3
   },
   "file_extension": ".py",
   "mimetype": "text/x-python",
   "name": "python",
   "nbconvert_exporter": "python",
   "pygments_lexer": "ipython3",
   "version": "3.6.6"
  }
 },
 "nbformat": 4,
 "nbformat_minor": 2
}
